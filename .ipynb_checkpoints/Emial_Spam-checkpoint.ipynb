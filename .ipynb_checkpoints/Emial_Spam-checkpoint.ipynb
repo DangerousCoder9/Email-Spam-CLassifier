{
 "cells": [
  {
   "cell_type": "code",
   "execution_count": null,
   "id": "49ccbd02-d133-4f52-852d-996cd13814f6",
   "metadata": {},
   "outputs": [],
   "source": []
  }
 ],
 "metadata": {
  "kernelspec": {
   "display_name": "Python 3 (ipykernel)",
   "language": "python",
   "name": "python3"
  },
  "language_info": {
   "codemirror_mode": {
    "name": "ipython",
    "version": 3
   },
   "file_extension": ".py",
   "mimetype": "text/x-python",
   "name": "python",
   "nbconvert_exporter": "python",
   "pygments_lexer": "ipython3",
   "version": "3.11.5"
  }
 },
 "nbformat": 4,
 "nbformat_minor": 5
}
